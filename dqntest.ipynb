{
 "cells": [
  {
   "cell_type": "code",
   "execution_count": 1,
   "metadata": {},
   "outputs": [],
   "source": [
    "import numpy as np\n",
    "import matplotlib.pyplot as plt\n",
    "import torch\n",
    "import torch.nn as nn\n",
    "import torchvision\n",
    "import torch.functional as F\n",
    "\n",
    "from IPython.display import clear_output\n",
    "\n",
    "from tictactoe import TicTacToe"
   ]
  },
  {
   "cell_type": "code",
   "execution_count": 2,
   "metadata": {},
   "outputs": [],
   "source": [
    "def b9tob27(b9):\n",
    "    b9 = b9.reshape([-1, 9])\n",
    "    b27 = np.zeros([b9.shape[0], 9, 3])\n",
    "    b27[b9 == 0, 0] = 1\n",
    "    b27[b9 == 1, 1] = 1\n",
    "    b27[b9 == -1, 2] = 1\n",
    "    return b27.reshape([-1, 27])\n",
    "    \n",
    "class DQN(nn.Module): # Q(s)\n",
    "    def __init__(self, n_input=3*3*3, n_output=3*3, n_hidden=81):\n",
    "        super().__init__()\n",
    "        self._fc1 = nn.Linear(n_input, n_hidden)\n",
    "        self._fc2 = nn.Linear(n_hidden, n_output)\n",
    "        self._sigmoid = nn.Sigmoid()\n",
    "        \n",
    "    def forward(self, board):\n",
    "        board = torch.from_numpy(b9tob27(board)).float()\n",
    "        x = self._fc1(board)\n",
    "        y = self._fc2(self._sigmoid(x))\n",
    "        return y\n",
    "    \n",
    "    def choose_action(self, board, mode='best', epsilon=0.2): # 不能批量处理\n",
    "        board = board.flatten()\n",
    "        if board.shape[0] != 9:\n",
    "            print('只能处理一个棋盘。')\n",
    "            return None\n",
    "        \n",
    "        ac_idx = np.where(board == 0)[0]\n",
    "        if ac_idx.shape[0] == 0:\n",
    "            print('已无法下子。')\n",
    "            return None\n",
    "        \n",
    "        q = self.forward(board).detach().numpy()[0][ac_idx]\n",
    "        \n",
    "        if mode == 'best':\n",
    "            idx = np.argmax(q)\n",
    "            return ac_idx[idx]\n",
    "        if mode == 'advn':\n",
    "            if np.random.random() > epsilon:\n",
    "                idx = np.argmax(q)\n",
    "                return ac_idx[idx]\n",
    "            else:\n",
    "                idx = np.random.choice(ac_idx.shape[0])\n",
    "                return ac_idx[idx]\n",
    "        return None\n",
    "    \n",
    "def learn(memory, batch_size=64, epochs=1):\n",
    "    loss_list = []\n",
    "    for epoch in range(epochs):\n",
    "        sample_range = min(memory_pointer, memory_size)\n",
    "        batch_index = np.random.choice(sample_range, \n",
    "                                       size=batch_size, \n",
    "                                       replace=False, \n",
    "                                       p=weight[:sample_range]/weight[:sample_range].sum())\n",
    "        batch_sample = memory[batch_index]\n",
    "        \n",
    "        board_list = batch_sample[:, :9]     # [bs, 9]\n",
    "        turn_list = batch_sample[:, 9:10]    # [bs, 1]\n",
    "        action_list = batch_sample[:, 10]    # [bs,]\n",
    "        reward_list = batch_sample[:, 11:12] # [bs, 1]\n",
    "        done_list = batch_sample[:, 12:13]   # [bs, 1]\n",
    "        _board_list = batch_sample[:, 13:]   # [bs, 9]\n",
    "\n",
    "        q = actor(board_list * turn_list)    # [bs, 9]\n",
    "        _q = q.clone().detach()              # [bs, 9]\n",
    "        for i in range(batch_size):\n",
    "            if done_list[i]:\n",
    "                _q[i, int(action_list[i])] = torch.from_numpy(reward_list[i] * turn_list[i])\n",
    "            else:\n",
    "                # double dqn\n",
    "                action = actor.choose_action(_board_list[i] * -turn_list[i], mode='best')\n",
    "                _q[i, int(action_list[i])] = actor_target(_board_list[i] * -turn_list[i])[0, action] * -1 * gamma\n",
    "        \n",
    "        loss = mseloss(q, _q)\n",
    "        optim.zero_grad()\n",
    "        loss.backward()\n",
    "        optim.step()\n",
    "        weight[batch_index] = loss.item()\n",
    "        loss_list.append(loss.item())\n",
    "    return loss_list"
   ]
  },
  {
   "cell_type": "code",
   "execution_count": 3,
   "metadata": {},
   "outputs": [],
   "source": [
    "lr = 0.001\n",
    "gamma = 0.99\n",
    "actor = DQN()\n",
    "actor_target = DQN()\n",
    "actor_target.load_state_dict(actor.state_dict())\n",
    "optim = torch.optim.Adam(actor.parameters(), lr=lr)\n",
    "mseloss = torch.nn.MSELoss()\n",
    "\n",
    "ttt = TicTacToe()\n",
    "\n",
    "epsilon = 1\n",
    "epsilon_delay = 0.9999\n",
    "epsilon_min = 0.2\n",
    "\n",
    "n_feature = 9 + 1 + 1 + 1 + 1 + 9 # board, turn, action, win, done, next_board\n",
    "memory_size = 50000\n",
    "memory_pointer = 0\n",
    "memory = np.zeros([memory_size, n_feature])\n",
    "weight = np.ones([memory_size,]) #####"
   ]
  },
  {
   "cell_type": "code",
   "execution_count": 7,
   "metadata": {},
   "outputs": [
    {
     "data": {
      "text/plain": [
       "<All keys matched successfully>"
      ]
     },
     "execution_count": 7,
     "metadata": {},
     "output_type": "execute_result"
    }
   ],
   "source": [
    "actor.load_state_dict(torch.load('model/tictactoe_ddqn.pkl'))\n",
    "actor_target.load_state_dict(torch.load('model/tictactoe_ddqn.pkl'))"
   ]
  },
  {
   "cell_type": "code",
   "execution_count": 9,
   "metadata": {
    "scrolled": true
   },
   "outputs": [
    {
     "name": "stdout",
     "output_type": "stream",
     "text": [
      "经过100轮，玩家一战绩为28-10-62。\n",
      "经过200轮，玩家一战绩为25-9-66。\n",
      "经过300轮，玩家一战绩为32-13-55。\n",
      "经过400轮，玩家一战绩为25-10-65。\n",
      "经过500轮，玩家一战绩为33-15-52。\n",
      "经过600轮，玩家一战绩为2-72-26。\n",
      "经过700轮，玩家一战绩为2-66-32。\n",
      "经过800轮，玩家一战绩为8-59-33。\n",
      "经过900轮，玩家一战绩为15-44-41。\n",
      "经过1000轮，玩家一战绩为24-39-37。\n",
      "经过1100轮，玩家一战绩为31-23-46。\n",
      "经过1200轮，玩家一战绩为34-11-55。\n",
      "经过1300轮，玩家一战绩为37-19-44。\n",
      "经过1400轮，玩家一战绩为30-22-48。\n",
      "经过1500轮，玩家一战绩为25-22-53。\n",
      "经过1600轮，玩家一战绩为5-61-34。\n",
      "经过1700轮，玩家一战绩为3-76-21。\n",
      "经过1800轮，玩家一战绩为4-68-28。\n",
      "经过1900轮，玩家一战绩为3-65-32。\n",
      "经过2000轮，玩家一战绩为0-71-29。\n",
      "经过2100轮，玩家一战绩为0-66-34。\n",
      "经过2200轮，玩家一战绩为1-68-31。\n",
      "经过2300轮，玩家一战绩为1-64-35。\n",
      "经过2400轮，玩家一战绩为0-74-26。\n",
      "经过2500轮，玩家一战绩为0-69-31。\n",
      "经过2600轮，玩家一战绩为1-73-26。\n",
      "经过2700轮，玩家一战绩为0-65-35。\n",
      "经过2800轮，玩家一战绩为1-62-37。\n",
      "经过2900轮，玩家一战绩为1-62-37。\n",
      "经过3000轮，玩家一战绩为1-69-30。\n",
      "经过3100轮，玩家一战绩为0-68-32。\n",
      "经过3200轮，玩家一战绩为0-71-29。\n",
      "经过3300轮，玩家一战绩为0-80-20。\n",
      "经过3400轮，玩家一战绩为0-71-29。\n",
      "经过3500轮，玩家一战绩为0-62-38。\n",
      "经过3600轮，玩家一战绩为0-66-34。\n",
      "经过3700轮，玩家一战绩为0-71-29。\n",
      "经过3800轮，玩家一战绩为0-67-33。\n",
      "经过3900轮，玩家一战绩为0-72-28。\n",
      "经过4000轮，玩家一战绩为0-68-32。\n",
      "经过4100轮，玩家一战绩为0-64-36。\n",
      "经过4200轮，玩家一战绩为0-66-34。\n",
      "经过4300轮，玩家一战绩为0-75-25。\n",
      "经过4400轮，玩家一战绩为0-68-32。\n",
      "经过4500轮，玩家一战绩为0-73-27。\n",
      "经过4600轮，玩家一战绩为0-70-30。\n",
      "经过4700轮，玩家一战绩为0-72-28。\n",
      "经过4800轮，玩家一战绩为0-63-37。\n",
      "经过4900轮，玩家一战绩为0-65-35。\n",
      "经过5000轮，玩家一战绩为0-75-25。\n",
      "经过5100轮，玩家一战绩为0-66-34。\n",
      "经过5200轮，玩家一战绩为0-67-33。\n",
      "经过5300轮，玩家一战绩为0-77-23。\n",
      "经过5400轮，玩家一战绩为1-70-29。\n",
      "经过5500轮，玩家一战绩为0-77-23。\n",
      "经过5600轮，玩家一战绩为0-72-28。\n",
      "经过5700轮，玩家一战绩为0-70-30。\n",
      "经过5800轮，玩家一战绩为0-78-22。\n",
      "经过5900轮，玩家一战绩为0-80-20。\n",
      "经过6000轮，玩家一战绩为0-83-17。\n",
      "经过6100轮，玩家一战绩为0-78-22。\n",
      "经过6200轮，玩家一战绩为0-71-29。\n",
      "经过6300轮，玩家一战绩为0-69-31。\n",
      "经过6400轮，玩家一战绩为0-78-22。\n",
      "经过6500轮，玩家一战绩为0-75-25。\n",
      "经过6600轮，玩家一战绩为0-78-22。\n",
      "经过6700轮，玩家一战绩为0-75-25。\n",
      "经过6800轮，玩家一战绩为0-67-33。\n",
      "经过6900轮，玩家一战绩为0-65-35。\n",
      "经过7000轮，玩家一战绩为0-71-29。\n",
      "经过7100轮，玩家一战绩为0-76-24。\n",
      "经过7200轮，玩家一战绩为1-64-35。\n",
      "经过7300轮，玩家一战绩为0-77-23。\n",
      "经过7400轮，玩家一战绩为0-72-28。\n",
      "经过7500轮，玩家一战绩为1-73-26。\n",
      "经过7600轮，玩家一战绩为1-61-38。\n",
      "经过7700轮，玩家一战绩为2-68-30。\n",
      "经过7800轮，玩家一战绩为1-67-32。\n",
      "经过7900轮，玩家一战绩为0-69-31。\n",
      "经过8000轮，玩家一战绩为0-73-27。\n",
      "经过8100轮，玩家一战绩为1-74-25。\n",
      "经过8200轮，玩家一战绩为0-78-22。\n",
      "经过8300轮，玩家一战绩为0-62-38。\n",
      "经过8400轮，玩家一战绩为0-70-30。\n",
      "经过8500轮，玩家一战绩为0-63-37。\n",
      "经过8600轮，玩家一战绩为0-68-32。\n",
      "经过8700轮，玩家一战绩为0-77-23。\n",
      "经过8800轮，玩家一战绩为0-71-29。\n",
      "经过8900轮，玩家一战绩为1-77-22。\n",
      "经过9000轮，玩家一战绩为3-69-28。\n",
      "经过9100轮，玩家一战绩为1-72-27。\n",
      "经过9200轮，玩家一战绩为0-78-22。\n",
      "经过9300轮，玩家一战绩为1-74-25。\n",
      "经过9400轮，玩家一战绩为0-64-36。\n",
      "经过9500轮，玩家一战绩为0-74-26。\n",
      "经过9600轮，玩家一战绩为0-76-24。\n",
      "经过9700轮，玩家一战绩为0-70-30。\n",
      "经过9800轮，玩家一战绩为0-74-26。\n",
      "经过9900轮，玩家一战绩为0-75-25。\n",
      "经过10000轮，玩家一战绩为0-64-36。\n"
     ]
    },
    {
     "data": {
      "image/png": "[encoded data removed]",
      "text/plain": [
       "<Figure size 432x288 with 1 Axes>"
      ]
     },
     "metadata": {
      "needs_background": "light"
     },
     "output_type": "display_data"
    }
   ],
   "source": [
    "history = []\n",
    "total_round = 10000\n",
    "win_round = 0\n",
    "draw_round = 0\n",
    "for cur_round in range(total_round):\n",
    "    board, turn, win, done = ttt.reset(np.random.choice([1, -1], 1)[0])\n",
    "    while not done:\n",
    "        if turn == 1:\n",
    "            action = actor.choose_action(board, mode='advn', epsilon=0.2)\n",
    "        elif turn == -1:\n",
    "            action = actor.choose_action(-board, mode='best')\n",
    "        _board, _turn, win, done = ttt.step(action)\n",
    "        memory[memory_pointer % memory_size] = np.concatenate((board, [turn], [action], [win], [done], _board))\n",
    "        weight[memory_pointer % memory_size] = 0.001 #####\n",
    "        memory_pointer += 1\n",
    "        \n",
    "        board = _board\n",
    "        turn = _turn\n",
    "    \n",
    "    if memory_pointer > 500:\n",
    "        loss_list = learn(memory, 128, 3)\n",
    "        history.append(np.mean(np.square(loss_list)))\n",
    "        \n",
    "    epsilon = max(epsilon * epsilon_delay, epsilon_min)\n",
    "    \n",
    "    if win == 1:\n",
    "        win_round += 1\n",
    "    elif win == 0:\n",
    "        draw_round += 1\n",
    "    if (cur_round + 1) % 100 == 0:\n",
    "        print('经过%d轮，玩家一战绩为%d-%d-%d。' % (cur_round + 1, win_round, draw_round, 100-win_round-draw_round))\n",
    "        win_round = 0\n",
    "        draw_round = 0\n",
    "    \n",
    "    if (cur_round + 1) % 500 == 0:\n",
    "        actor_target.load_state_dict(actor.state_dict())\n",
    "\n",
    "plt.plot(history)\n",
    "plt.show()"
   ]
  },
  {
   "cell_type": "code",
   "execution_count": 11,
   "metadata": {},
   "outputs": [],
   "source": [
    "# torch.save(actor.state_dict(), 'model/tictactoe_ddqn.pkl.pkl')"
   ]
  },
  {
   "cell_type": "markdown",
   "metadata": {},
   "source": [
    "## Q值查看"
   ]
  },
  {
   "cell_type": "code",
   "execution_count": 18,
   "metadata": {},
   "outputs": [
    {
     "name": "stdout",
     "output_type": "stream",
     "text": [
      "tensor([ 0.2240,  0.7302, -0.3951, -0.0469,  0.5450, -0.9213,  1.1070, -0.2396,\n",
      "         1.0995], grad_fn=<SelectBackward0>)\n",
      "o|x|o  o\n",
      "x|o|x\n",
      "x|7|8\n"
     ]
    }
   ],
   "source": [
    "board = np.array([1, -1, 1, -1, 1, -1, -1, 0, 0])\n",
    "turn = 1\n",
    "win = 0\n",
    "ttt.board = board\n",
    "ttt.turn = 1\n",
    "ttt.win = 0\n",
    "\n",
    "q = actor(board)[0]\n",
    "print(q)\n",
    "    \n",
    "ttt.draw_board()"
   ]
  },
  {
   "cell_type": "markdown",
   "metadata": {},
   "source": [
    "## 最终测试 - 只有随机玩家不胜才成功。"
   ]
  },
  {
   "cell_type": "code",
   "execution_count": 13,
   "metadata": {},
   "outputs": [
    {
     "name": "stdout",
     "output_type": "stream",
     "text": [
      "正在进行第10000轮游戏。。随机玩家战绩为0-6117-3883。\n"
     ]
    }
   ],
   "source": [
    "record = [] # 将输给随机玩家的棋谱记录下来。\n",
    "\n",
    "# actor.load_state_dict(torch.load('model/tictactoe_ddqn.pkl.pkl'))\n",
    "\n",
    "total_round = 10000\n",
    "win_round = 0\n",
    "draw_round = 0\n",
    "\n",
    "epsilon = 0.5\n",
    "epsilon_delay = 0.9999\n",
    "epsilon_min = 0.1\n",
    "\n",
    "for cur_round in range(total_round):\n",
    "    board, turn, win, done = ttt.reset(np.random.choice([1, -1], 1)[0])\n",
    "    action_list = []\n",
    "    while not done:\n",
    "        if turn == 1:\n",
    "            action = actor.choose_action(board, mode='advn', epsilon=epsilon)\n",
    "        elif turn == -1:\n",
    "            action = actor.choose_action(-board, mode='best')\n",
    "        _board, _turn, win, done = ttt.step(action)\n",
    "        \n",
    "        board = _board\n",
    "        turn = _turn\n",
    "        \n",
    "        action_list.append(action.item())\n",
    "        \n",
    "    epsilon = max(epsilon * epsilon_delay, epsilon_min)\n",
    "    \n",
    "    if win == 1:\n",
    "        win_round += 1\n",
    "        record.append(action_list)\n",
    "    elif win == 0:\n",
    "        draw_round += 1\n",
    "    print('\\r正在进行第%d轮游戏。。' % (cur_round+1), end='', flush=True)\n",
    "print('随机玩家战绩为%d-%d-%d。' % (win_round, draw_round, total_round-win_round-draw_round))"
   ]
  },
  {
   "cell_type": "markdown",
   "metadata": {},
   "source": [
    "## 玩家试玩"
   ]
  },
  {
   "cell_type": "code",
   "execution_count": 4,
   "metadata": {},
   "outputs": [
    {
     "name": "stdout",
     "output_type": "stream",
     "text": [
      "x|o|o  o\n",
      "o|x|x\n",
      "x|x|o\n",
      "平局！\n"
     ]
    }
   ],
   "source": [
    "ttt = TicTacToe()\n",
    "actor = DQN()\n",
    "actor.load_state_dict(torch.load('model/tictactoe_ddqn.pkl.pkl'))\n",
    "board, turn, win, done = ttt.reset(np.random.choice([1, -1], 1)[0])\n",
    "while not done:\n",
    "    if turn == 1:\n",
    "        action = actor.choose_action(board, mode='best', epsilon=0.2)\n",
    "    elif turn == -1:\n",
    "        ttt.draw_board()\n",
    "        action = int(input())\n",
    "        clear_output()\n",
    "        \n",
    "    board, turn, win, done = ttt.step(action)\n",
    "    \n",
    "ttt.draw_board()\n",
    "if win == 1:\n",
    "    print('电脑获胜！')\n",
    "elif win == -1:\n",
    "    print('玩家获胜！')\n",
    "else:\n",
    "    print('平局！')\n",
    "    "
   ]
  }
 ],
 "metadata": {
  "kernelspec": {
   "display_name": "Python 3 (ipykernel)",
   "language": "python",
   "name": "python3"
  },
  "language_info": {
   "codemirror_mode": {
    "name": "ipython",
    "version": 3
   },
   "file_extension": ".py",
   "mimetype": "text/x-python",
   "name": "python",
   "nbconvert_exporter": "python",
   "pygments_lexer": "ipython3",
   "version": "3.8.5"
  }
 },
 "nbformat": 4,
 "nbformat_minor": 4
}
